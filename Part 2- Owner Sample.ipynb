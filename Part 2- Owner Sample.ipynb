{
 "cells": [
  {
   "cell_type": "markdown",
   "metadata": {},
   "source": [
    "## Connects to GBQ"
   ]
  },
  {
   "cell_type": "code",
   "execution_count": null,
   "metadata": {},
   "outputs": [],
   "source": [
    "#connect to GBQ instance\n",
    "\n",
    "# Do our imports for the code\n",
    "import random\n",
    "from google.cloud import bigquery\n",
    "from google.oauth2 import service_account\n",
    "\n",
    "\n",
    "# These first two values will be different on your machine. \n",
    "service_path = \"C:\\\\Users\\\\brenn\\\\Documents\\\\ADA\\\\Wedge overall\\\\\"\n",
    "service_file = 'ada-Wedge-b7fc47715ad0.json' # this is your authentication information  \n",
    "gbq_proj_id = 'ada-wedge'  # change this to your project_id\n",
    "gbq_dataset_id = 'wedge2' # and change this to your data set ID\n",
    "\n",
    "private_key =service_path + service_file\n",
    "\n",
    "# Get your credentials\n",
    "credentials = service_account.Credentials.from_service_account_file(service_path + service_file)\n",
    "\n",
    "# And create a client to talk to GBQ\n",
    "client = bigquery.Client(credentials = credentials, project=gbq_proj_id)"
   ]
  },
  {
   "cell_type": "markdown",
   "metadata": {},
   "source": [
    "## Builds List of Owners"
   ]
  },
  {
   "cell_type": "code",
   "execution_count": null,
   "metadata": {},
   "outputs": [],
   "source": [
    "#builds list of owners from each table in database using below query\n",
    "\n",
    "\n",
    "query = (\n",
    "    \"SELECT DISTINCT card_no \"\n",
    "    \"FROM `ada-wedge.wedge.transArchive*` \"\n",
    "    \"WHERE card_no != 3\"\n",
    ")\n",
    "\n",
    "\n",
    "query_job = client.query(\n",
    "    query,\n",
    "    location=\"US\",\n",
    ")\n",
    "\n",
    "\n",
    "results = client.query(query) \n",
    "#print(list(results))\n",
    "\n",
    "\n",
    "#Puts each entry from results into seperate row\n",
    "new_list = []\n",
    "for entry in results :\n",
    "    new_list.append(entry)\n",
    "    \n",
    "\n",
    "    \n",
    "#uses enumerate, go through each row\n",
    "#and pull out the first number of each entry which is the unique client number and put it in a list called owner_list\n",
    "owner_list = []\n",
    "\n",
    "\n",
    "for counter,entry in enumerate (new_list):\n",
    "    owner_list.append(new_list[counter][0]) \n",
    "\n",
    "  \n",
    "    "
   ]
  },
  {
   "cell_type": "markdown",
   "metadata": {},
   "source": [
    "## Takes a sample of owners"
   ]
  },
  {
   "cell_type": "code",
   "execution_count": null,
   "metadata": {},
   "outputs": [],
   "source": [
    "sample = random.choices(owner_list, k=500) #makes a random sample of 500 owners (about 291 MB)\n",
    "#print(sample[0:3])"
   ]
  },
  {
   "cell_type": "markdown",
   "metadata": {},
   "source": [
    "## Selects all info for each owner in sample"
   ]
  },
  {
   "cell_type": "code",
   "execution_count": null,
   "metadata": {},
   "outputs": [],
   "source": [
    "##Selects every variable from the wedge database using the below query\n",
    "\n",
    "query = (\"\"\"\n",
    "    Select *\n",
    "    FROM `ada-wedge.wedge2.transArchive*` \n",
    "    WHERE card_no in (\n",
    "    \n",
    "\"\"\")\n",
    "\n",
    "#builds the query each time by adding the next owner in the random sample to it.\n",
    "for idx, owner in enumerate(sample): \n",
    "    new_owner = (str(owner)[:-2]) #removes the .0 and turns it into a string\n",
    "    if idx < len(sample)-1: #if the index is not the last one in the sample, then it adds a comma after it\n",
    "        query += new_owner + ','\n",
    "    else: #otherwise it ends the query with a )\n",
    "        query += new_owner + ')'\n",
    "\n",
    "    \n",
    "    \n",
    "\n",
    "#runs the query job\n",
    "\n",
    "query_job = client.query(\n",
    "    query,\n",
    "    location=\"US\",\n",
    ")\n",
    "\n",
    "\n",
    "sample_client_info = client.query(query) \n",
    "\n"
   ]
  },
  {
   "cell_type": "markdown",
   "metadata": {},
   "source": [
    "## Writes Owner Info into a file"
   ]
  },
  {
   "cell_type": "code",
   "execution_count": null,
   "metadata": {},
   "outputs": [],
   "source": [
    "#this is the first row of headers \n",
    "headers = [\"datetime\",\"register_no\",\"emp_no\",\"trans_no\",\"upc\",\"description\",\"trans_type\",\"trans_subtype\",\"trans_status\",\"department\",\"quantity\",\"Scale\",\"cost\",\"unitPrice\",\"total\",\"regPrice\",\"altPrice\",\"tax\",\"taxexempt\",\"foodstamp\",\"wicable\",\"discount\",\"memDiscount\",\"discountable\",\"discounttype\",\"voided\",\"percentDiscount\",\"ItemQtty\",\"volDiscType\",\"volume\",\"VolSpecial\",\"mixMatch\",\"matched\",\"memType\",\"staff\",\"numflag\",\"itemstatus\",\"tenderstatus\",\"charflag\",\"varflag\",\"batchHeaderID\",\"local\",\"organic\",\"display\",\"receipt\",\"card_no\",\"store\",\"branch\",\"match_id\",\"trans_id\"]"
   ]
  },
  {
   "cell_type": "code",
   "execution_count": null,
   "metadata": {},
   "outputs": [],
   "source": [
    "#writes the query to a file\n",
    "with open('Sample_Owners.txt','a') as output_file:\n",
    "    output_file.write(\",\".join(headers) + \"\\n\") #adds headers as first line\n",
    "    #turn each item into a string for each line in the sample_client_info (aka results) and save it as a row\n",
    "    #write the row into the text file separating each item in the row by , and adding a carriage return after it\n",
    "    for line in sample_client_info:\n",
    "        row = [str(item) for item in line]\n",
    "        output_file.write(\",\".join(row)+'\\n')\n",
    "        \n",
    "    \n",
    "\n",
    "\n",
    "\n",
    "\n",
    "\n",
    "\n"
   ]
  },
  {
   "cell_type": "code",
   "execution_count": null,
   "metadata": {},
   "outputs": [],
   "source": []
  }
 ],
 "metadata": {
  "kernelspec": {
   "display_name": "Python 3",
   "language": "python",
   "name": "python3"
  },
  "language_info": {
   "codemirror_mode": {
    "name": "ipython",
    "version": 3
   },
   "file_extension": ".py",
   "mimetype": "text/x-python",
   "name": "python",
   "nbconvert_exporter": "python",
   "pygments_lexer": "ipython3",
   "version": "3.8.3"
  }
 },
 "nbformat": 4,
 "nbformat_minor": 4
}
